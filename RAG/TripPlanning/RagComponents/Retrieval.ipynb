{
 "cells": [
  {
   "cell_type": "code",
   "execution_count": 6,
   "id": "f556c86e-2189-479f-b423-70e9032eb6f3",
   "metadata": {},
   "outputs": [
    {
     "name": "stderr",
     "output_type": "stream",
     "text": [
      "C:\\Users\\amank\\anaconda3\\envs\\RAG\\Lib\\site-packages\\tqdm\\auto.py:21: TqdmWarning: IProgress not found. Please update jupyter and ipywidgets. See https://ipywidgets.readthedocs.io/en/stable/user_install.html\n",
      "  from .autonotebook import tqdm as notebook_tqdm\n"
     ]
    }
   ],
   "source": [
    "from chromadb import Client\n",
    "from chromadb.config import Settings\n",
    "from sentence_transformers import SentenceTransformer"
   ]
  },
  {
   "cell_type": "code",
   "execution_count": 7,
   "id": "c06e1539-92e9-4519-b575-f9b737dcadcd",
   "metadata": {},
   "outputs": [],
   "source": [
    "# Initialize Chroma client (in-memory DB by default)\n",
    "chroma_client = Client(Settings())"
   ]
  },
  {
   "cell_type": "code",
   "execution_count": 8,
   "id": "8324e86c-a6b5-4d65-8389-2bc45df831fb",
   "metadata": {},
   "outputs": [],
   "source": [
    "# Create a collection (or get an existing one)\n",
    "collection = chroma_client.create_collection(name=\"my_collection\")"
   ]
  },
  {
   "cell_type": "code",
   "execution_count": 9,
   "id": "0d2160ce-6b7f-45ab-b558-ab80614eead5",
   "metadata": {},
   "outputs": [],
   "source": [
    "# Load embedding model\n",
    "embedding_model = SentenceTransformer(\"all-MiniLM-L6-v2\")"
   ]
  },
  {
   "cell_type": "code",
   "execution_count": 10,
   "id": "7fb44477-cc4f-4ac0-9043-e1c2f692be82",
   "metadata": {},
   "outputs": [],
   "source": [
    "# Your texts\n",
    "texts = [\n",
    "    \"Machine learning is awesome.\",\n",
    "    \"Transformers are revolutionizing NLP.\",\n",
    "    \"Chroma is a vector database for LLMs.\"\n",
    "]"
   ]
  },
  {
   "cell_type": "code",
   "execution_count": 11,
   "id": "1a6f6e7d-d446-4aa8-9b13-af62e63c63e4",
   "metadata": {},
   "outputs": [],
   "source": [
    "# Generate embeddings\n",
    "embeddings = embedding_model.encode(texts).tolist()"
   ]
  },
  {
   "cell_type": "code",
   "execution_count": 12,
   "id": "943f5d05-1002-4699-a9a7-0830e9c6eb1a",
   "metadata": {},
   "outputs": [
    {
     "name": "stdout",
     "output_type": "stream",
     "text": [
      "Documents added to Chroma.\n"
     ]
    }
   ],
   "source": [
    "# Add to the collection\n",
    "collection.add(\n",
    "    documents=texts,\n",
    "    embeddings=embeddings,\n",
    "    ids=[f\"doc{i}\" for i in range(len(texts))]\n",
    ")\n",
    "\n",
    "print(\"Documents added to Chroma.\")"
   ]
  },
  {
   "cell_type": "code",
   "execution_count": 13,
   "id": "1170174f-4f1d-4008-8c0e-caee8f87eb39",
   "metadata": {},
   "outputs": [],
   "source": [
    "# Your query\n",
    "query_text = \"What are transformers in AI?\""
   ]
  },
  {
   "cell_type": "code",
   "execution_count": 14,
   "id": "47c5e491-1878-4812-8e86-8d3593f59392",
   "metadata": {},
   "outputs": [],
   "source": [
    "# Embed the query\n",
    "query_embedding = embedding_model.encode(query_text).tolist()"
   ]
  },
  {
   "cell_type": "code",
   "execution_count": 15,
   "id": "400d80ae-a21d-4052-9151-1fd8f618fb10",
   "metadata": {},
   "outputs": [],
   "source": [
    "# Query the collection\n",
    "results = collection.query(\n",
    "    query_embeddings=[query_embedding],\n",
    "    n_results=2  # number of top matches to return\n",
    ")"
   ]
  },
  {
   "cell_type": "code",
   "execution_count": 16,
   "id": "953a26a1-6ba2-472f-b8d6-7c0fa953c0c4",
   "metadata": {},
   "outputs": [
    {
     "name": "stdout",
     "output_type": "stream",
     "text": [
      "Top matches:\n",
      "- Transformers are revolutionizing NLP. (distance: 0.8475)\n",
      "- Machine learning is awesome. (distance: 1.3247)\n"
     ]
    }
   ],
   "source": [
    "# Print results\n",
    "print(\"Top matches:\")\n",
    "for doc, dist in zip(results['documents'][0], results['distances'][0]):\n",
    "    print(f\"- {doc} (distance: {dist:.4f})\")"
   ]
  },
  {
   "cell_type": "code",
   "execution_count": null,
   "id": "9695cd5c-e31e-44ee-b759-d63a9cc214f6",
   "metadata": {},
   "outputs": [],
   "source": []
  }
 ],
 "metadata": {
  "kernelspec": {
   "display_name": "Python 3 (ipykernel)",
   "language": "python",
   "name": "python3"
  },
  "language_info": {
   "codemirror_mode": {
    "name": "ipython",
    "version": 3
   },
   "file_extension": ".py",
   "mimetype": "text/x-python",
   "name": "python",
   "nbconvert_exporter": "python",
   "pygments_lexer": "ipython3",
   "version": "3.11.13"
  }
 },
 "nbformat": 4,
 "nbformat_minor": 5
}
