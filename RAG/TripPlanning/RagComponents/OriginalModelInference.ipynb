{
 "cells": [
  {
   "cell_type": "code",
   "execution_count": 1,
   "id": "44413887-33c4-45f2-b39a-d7db265ed511",
   "metadata": {},
   "outputs": [
    {
     "name": "stderr",
     "output_type": "stream",
     "text": [
      "C:\\Users\\amank\\anaconda3\\envs\\RAG\\Lib\\site-packages\\tqdm\\auto.py:21: TqdmWarning: IProgress not found. Please update jupyter and ipywidgets. See https://ipywidgets.readthedocs.io/en/stable/user_install.html\n",
      "  from .autonotebook import tqdm as notebook_tqdm\n"
     ]
    }
   ],
   "source": [
    "import torch\n",
    "from transformers import AutoTokenizer, AutoModelForCausalLM"
   ]
  },
  {
   "cell_type": "code",
   "execution_count": 2,
   "id": "b20fb0e9-950d-4d0b-8055-f414cf01722b",
   "metadata": {},
   "outputs": [
    {
     "name": "stdout",
     "output_type": "stream",
     "text": [
      "True\n",
      "1\n",
      "0\n",
      "2.5.1+cu121\n"
     ]
    }
   ],
   "source": [
    "print(torch.cuda.is_available())  # Should return True if CUDA is available\n",
    "print(torch.cuda.device_count())  # Should show how many GPUs are available\n",
    "print(torch.cuda.current_device())  # Should show the current active GPU\n",
    "print(torch.__version__)  # This will print the version of PyTorch"
   ]
  },
  {
   "cell_type": "code",
   "execution_count": 3,
   "id": "231e137a",
   "metadata": {},
   "outputs": [
    {
     "name": "stderr",
     "output_type": "stream",
     "text": [
      "Loading checkpoint shards: 100%|██████████| 2/2 [00:13<00:00,  6.74s/it]\n"
     ]
    }
   ],
   "source": [
    "tokenizer = AutoTokenizer.from_pretrained(\"meta-llama/Llama-3.2-3B-Instruct\")\n",
    "model = AutoModelForCausalLM.from_pretrained(\"meta-llama/Llama-3.2-3B-Instruct\")"
   ]
  },
  {
   "cell_type": "code",
   "execution_count": 4,
   "id": "b49cb35e-e248-4c49-a041-cb4c19553d1a",
   "metadata": {},
   "outputs": [
    {
     "data": {
      "text/plain": [
       "'cuda'"
      ]
     },
     "execution_count": 4,
     "metadata": {},
     "output_type": "execute_result"
    }
   ],
   "source": [
    "# Check if CUDA is available and move model to GPU\n",
    "device = \"cuda\" if torch.cuda.is_available() else \"cpu\"\n",
    "device"
   ]
  },
  {
   "cell_type": "code",
   "execution_count": 5,
   "id": "b9758c9e-6cfd-4b59-83ce-ed26a1ef106c",
   "metadata": {},
   "outputs": [],
   "source": [
    "# Explicitly move the model to GPU if available\n",
    "model = model.to(device)"
   ]
  },
  {
   "cell_type": "code",
   "execution_count": 6,
   "id": "9536b6c0-70b5-4dd2-8af3-59ebb9fd4056",
   "metadata": {},
   "outputs": [],
   "source": [
    "def GenerateResponse(Text,model,tokenizer,device):\n",
    "    # Define the message\n",
    "    messages = [\n",
    "        {\"role\": \"user\", \"content\": Text},\n",
    "    ]\n",
    "    # Prepare the inputs\n",
    "    inputs = tokenizer.apply_chat_template(\n",
    "        messages,\n",
    "        add_generation_prompt=True,\n",
    "        tokenize=True,\n",
    "        return_dict=True,\n",
    "        return_tensors=\"pt\",\n",
    "    ).to(device)\n",
    "    # Check devices\n",
    "    print(\"Model is on:\", model.device)\n",
    "    print(\"Input tensor is on:\", inputs['input_ids'].device)\n",
    "    outputs = model.generate(**inputs, max_new_tokens=40)\n",
    "    response = tokenizer.decode(outputs[0][inputs[\"input_ids\"].shape[-1]:])\n",
    "    return response"
   ]
  },
  {
   "cell_type": "code",
   "execution_count": 7,
   "id": "065c2dff-7450-4f33-8d9d-e74f1d683686",
   "metadata": {},
   "outputs": [],
   "source": [
    "Text = \"Who are you?\""
   ]
  },
  {
   "cell_type": "code",
   "execution_count": 8,
   "id": "3e4e54e8",
   "metadata": {},
   "outputs": [
    {
     "name": "stderr",
     "output_type": "stream",
     "text": [
      "Setting `pad_token_id` to `eos_token_id`:128001 for open-end generation.\n"
     ]
    },
    {
     "name": "stdout",
     "output_type": "stream",
     "text": [
      "Model is on: cuda:0\n",
      "Input tensor is on: cuda:0\n",
      "I'm an artificial intelligence model known as Llama. Llama stands for \"Large Language Model Meta AI.\"<|eot_id|>\n"
     ]
    }
   ],
   "source": [
    "# Decode the output\n",
    "print(GenerateResponse(Text,model,tokenizer,device))"
   ]
  }
 ],
 "metadata": {
  "kernelspec": {
   "display_name": "Python 3 (ipykernel)",
   "language": "python",
   "name": "python3"
  },
  "language_info": {
   "codemirror_mode": {
    "name": "ipython",
    "version": 3
   },
   "file_extension": ".py",
   "mimetype": "text/x-python",
   "name": "python",
   "nbconvert_exporter": "python",
   "pygments_lexer": "ipython3",
   "version": "3.11.13"
  }
 },
 "nbformat": 4,
 "nbformat_minor": 5
}
